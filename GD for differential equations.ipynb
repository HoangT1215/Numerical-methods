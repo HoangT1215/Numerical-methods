{
 "cells": [
  {
   "cell_type": "code",
   "execution_count": 25,
   "metadata": {},
   "outputs": [
    {
     "name": "stdout",
     "output_type": "stream",
     "text": [
      "(21L, 10001L)\n"
     ]
    }
   ],
   "source": [
    "# Functional gradient descent for Euler-Lagrange optimization problem\n",
    "\n",
    "'''\n",
    "Algorithm design\n",
    "1) Translate the optimization problem into a system of ODE\n",
    "2) Use FD method to numerically solve the equation\n",
    "\n",
    "The function q includes a main variable and a ficitious time variable tau\n",
    "\n",
    "Group preserving scheme\n",
    "A group-preserving scheme (GPS) can preserve the internal symmetry group of the considered ODEs system. \n",
    "\n",
    "Reference\n",
    "- David Luenger's chapter 7 optimization of functionals\n",
    "- UCLA lectures\n",
    "'''\n",
    "\n",
    "#--- Initialization\n",
    "from __future__ import division\n",
    "import sys\n",
    "import numpy as np\n",
    "import matplotlib.pyplot as plt\n",
    "import math\n",
    "import scipy\n",
    "\n",
    "sys.setrecursionlimit(1500)\n",
    "\n",
    "'''\n",
    "Boundary condition\n",
    "q(0, tau) = 0\n",
    "q(1, tau) = 1\n",
    "q(t, 0) = t**3\n",
    "step = 0.01\n",
    "'''\n",
    "\n",
    "h1 = 0.001 # time step\n",
    "h2 = 0.05 # note that h1 << h2*2\n",
    "tau_limit = 10\n",
    "tau = 0 # fictitious time variable\n",
    "noise = 0\n",
    "\n",
    "a = int(1/h2)\n",
    "b = tau_limit*int(1/h1)\n",
    "g = np.zeros((a+1, b+1)) # initializing gradient table for faster computation and avoid recursions\n",
    "print g.shape"
   ]
  },
  {
   "cell_type": "code",
   "execution_count": 26,
   "metadata": {},
   "outputs": [
    {
     "name": "stdout",
     "output_type": "stream",
     "text": [
      "[[ 0.  0.  0. ...,  0.  0.  0.]\n",
      " [ 0.  0.  0. ...,  0.  0.  0.]\n",
      " [ 0.  0.  0. ...,  0.  0.  0.]\n",
      " ..., \n",
      " [ 0.  0.  0. ...,  0.  0.  0.]\n",
      " [ 0.  0.  0. ...,  0.  0.  0.]\n",
      " [ 0.  0.  0. ...,  0.  0.  0.]]\n",
      "[[  0.00000000e+00   0.00000000e+00   0.00000000e+00 ...,   0.00000000e+00\n",
      "    0.00000000e+00   0.00000000e+00]\n",
      " [  1.25000000e-04   1.22500000e-04   1.20050000e-04 ...,   2.37254679e-92\n",
      "    2.32509586e-92   2.27859394e-92]\n",
      " [  1.00000000e-03   9.81250000e-04   9.62850000e-04 ...,   2.61028567e-90\n",
      "    2.55831721e-90   2.50738337e-90]\n",
      " ..., \n",
      " [  7.29000000e-01   7.20561250e-01   7.12219650e-01 ...,   3.11948031e-72\n",
      "    3.06194715e-72   3.00547463e-72]\n",
      " [  8.57375000e-01   8.47517500e-01   8.37772763e-01 ...,   1.89223280e-71\n",
      "    1.85750763e-71   1.82341942e-71]\n",
      " [  1.00000000e+00   1.00000000e+00   1.00000000e+00 ...,   1.00000000e+00\n",
      "    1.00000000e+00   1.00000000e+00]]\n"
     ]
    }
   ],
   "source": [
    "#--- Dynamic programming approach\n",
    "print g0\n",
    "\n",
    "for i in range(a+1):\n",
    "    for j in range(b+1):\n",
    "        if j == 0:\n",
    "            g[i,j] = (i*h2)**3\n",
    "        else:\n",
    "            if i == 0:\n",
    "                g[i,j] = 0\n",
    "            elif i == a:\n",
    "                g[i,j] = 1\n",
    "            else:\n",
    "                g[i,j] = g[i, j - 1] + (h1/(h2*2))*(g[i + 1, j - 1] - 2*g[i, j - 1] + g[i - 1, j - 1])\n",
    "\n",
    "print g"
   ]
  },
  {
   "cell_type": "code",
   "execution_count": 13,
   "metadata": {},
   "outputs": [
    {
     "name": "stdout",
     "output_type": "stream",
     "text": [
      "0.00115\n"
     ]
    }
   ],
   "source": [
    "#--- Recursive algorithm\n",
    "\n",
    "'''\n",
    "diff_q(t, tau + h) = (q(t, tau + h) - q(t, tau))/h\n",
    "diff_q(t, tau + h) = (q(t + h, tau) - 2*q(t, tau) + q(t - h, tau))/h**2 RHS is the second order derivative of q\n",
    "'''\n",
    "\n",
    "def q(t, tau):\n",
    "    if tau == 0:\n",
    "        return t**3\n",
    "    else:\n",
    "        if t < h2:\n",
    "            return 0\n",
    "        elif t > 1-h2:\n",
    "            return 1\n",
    "        else:\n",
    "            return q(t, tau - h1) + (h1/(h2*2))*(q(t + h2, tau - h1) - 2*q(t, tau - h1) + q(t - h2, tau - h1))\n",
    "        "
   ]
  },
  {
   "cell_type": "code",
   "execution_count": 21,
   "metadata": {
    "scrolled": true
   },
   "outputs": [
    {
     "data": {
      "image/png": "[encoded data removed]",
      "text/plain": [
       "<matplotlib.figure.Figure at 0xa42b470>"
      ]
     },
     "metadata": {},
     "output_type": "display_data"
    }
   ],
   "source": [
    "'''\n",
    "Plot q\n",
    "Observe function plot for tau = 0, 1, 10, 100\n",
    "'''\n",
    "x = np.linspace(0, 1, 21)\n",
    "tau = 0.01\n",
    "\n",
    "y0 = q(x, 0.00)\n",
    "y1 = []\n",
    "y2 = []\n",
    "for i in range(int(1/h2)+1):\n",
    "    y1.append(q(i*h2, 0.005))\n",
    "    y2.append(q(i*h2, 0.01))\n",
    "\n",
    "plt.plot(x, y0, 'r')\n",
    "plt.plot(x, y1, 'g')\n",
    "plt.show()"
   ]
  },
  {
   "cell_type": "code",
   "execution_count": 34,
   "metadata": {},
   "outputs": [
    {
     "data": {
      "image/png": "[encoded data removed]",
      "text/plain": [
       "<matplotlib.figure.Figure at 0xa46b668>"
      ]
     },
     "metadata": {},
     "output_type": "display_data"
    }
   ],
   "source": [
    "# Plot for DP approach\n",
    "\n",
    "g0 = g[:,0]\n",
    "g5 = g[:,5]\n",
    "g20 = g[:,20]\n",
    "g100 = g[:,100]\n",
    "\n",
    "plt.plot(x, g0, 'r')\n",
    "plt.plot(x, g5, 'g')\n",
    "plt.plot(x, g20, 'y')\n",
    "plt.plot(x, g100, 'b')\n",
    "plt.show()"
   ]
  },
  {
   "cell_type": "code",
   "execution_count": null,
   "metadata": {},
   "outputs": [],
   "source": [
    "#--- von Neumann analysis\n",
    "'''\n",
    "After we have discretized our problem. The question remains on how to choose ∆t \n",
    "to ensure that the numerical scheme is stable and converges. This will be done later.\n",
    "'''\n"
   ]
  }
 ],
 "metadata": {
  "kernelspec": {
   "display_name": "Python 2",
   "language": "python",
   "name": "python2"
  },
  "language_info": {
   "codemirror_mode": {
    "name": "ipython",
    "version": 2
   },
   "file_extension": ".py",
   "mimetype": "text/x-python",
   "name": "python",
   "nbconvert_exporter": "python",
   "pygments_lexer": "ipython2",
   "version": "2.7.14"
  }
 },
 "nbformat": 4,
 "nbformat_minor": 2
}

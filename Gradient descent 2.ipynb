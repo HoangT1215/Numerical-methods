{
 "cells": [
  {
   "cell_type": "markdown",
   "metadata": {},
   "source": [
    "Gradient descent implementation with some improvements"
   ]
  },
  {
   "cell_type": "code",
   "execution_count": 1,
   "metadata": {},
   "outputs": [],
   "source": [
    "import math\n",
    "import matplotlib\n",
    "import numpy as np\n",
    "import matplotlib.cm as cm\n",
    "import matplotlib.mlab as mlab\n",
    "import matplotlib.pyplot as plt\n",
    "import sympy\n",
    "import cvxpy\n",
    "\n",
    "def f(x):\n",
    "    return x"
   ]
  },
  {
   "cell_type": "code",
   "execution_count": null,
   "metadata": {},
   "outputs": [],
   "source": [
    "def gradient_descent(f, diff_x, diff_y, start, f_prev, n, path):\n",
    "    step = linesearch(start, diff_x, diff_y) # calculate optimal step size using line search\n",
    "    start[b] += step*(N(diff_x.subs(start))) - noise\n",
    "    start[theta] += step*(N(diff_y.subs(start))) + noise \n",
    "    \n",
    "    if round(N(f.subs(start)),7) == round(f_prev, 7) and n > 50: # condition for algorithm to terminate\n",
    "        return N(f.subs(start)), start, path\n",
    "    \n",
    "    f_prev = N(f.subs(start))\n",
    "    path.append((start[b], start[theta]))\n",
    "    n += 1\n",
    "    \n",
    "    return gradient_descent(f, diff_x, diff_y, start, f_prev, n, path) # recursion\n",
    "\n",
    "def linesearch(start, diff_x, diff_y):\n",
    "    global b, theta, alpha, b_alpha, theta_alpha, f_alpha\n",
    "    \n",
    "    l = noise\n",
    "    h = start[alpha]\n",
    "    mid = (l+h)/2\n",
    "    \n",
    "    b_alpha = diff_b*alpha\n",
    "    theta_alpha = diff_theta*alpha\n",
    "\n",
    "    for _ in range(100):\n",
    "        res = diff(f_alpha, alpha).subs({alpha:h, b: start[b], theta: start[theta]})\n",
    "        if res <= TOL:\n",
    "            return mid\n",
    "        if res < 0:\n",
    "            h *= 2\n",
    "        if res > 0:\n",
    "            mid = l + h\n",
    "            if mid <= 0:\n",
    "                l = mid\n",
    "            else:\n",
    "                h = mid\n",
    "    return mid\n",
    "\n",
    "b, theta, alpha = symbols('b theta alpha', real = True)\n",
    "\n",
    "# function h'(a) for line search\n",
    "b_alpha, theta_alpha = symbols('b_alpha theta_alpha', real = True)\n",
    "f_alpha = (3-b_alpha)*sin(theta_alpha)*(2*b_alpha+3*cos(theta_alpha)-b_alpha*cos(theta_alpha))*0.25\n",
    "\n",
    "# partial derivatives wrt to b and theta\n",
    "diff_b = diff(f, b)\n",
    "diff_theta = diff(f,theta)\n",
    "\n",
    "# initial state\n",
    "start = {alpha:1, b:3, theta:0}\n",
    "\n",
    "# search result\n",
    "res = gradient_descent(f, diff_b, diff_theta, start, N(f.subs(start)), 0, [(start[b], start[theta])])\n",
    "\n",
    "# print out result\n",
    "print(\"Optimum point:    %f\" %res[0])\n",
    "print(\"Error: %f\" %(3*np.sqrt(3)/4 - res[0])) # based on our analytical solution\n",
    "print(\"At values:  \", res[1])"
   ]
  }
 ],
 "metadata": {
  "kernelspec": {
   "display_name": "Python 2",
   "language": "python",
   "name": "python2"
  },
  "language_info": {
   "codemirror_mode": {
    "name": "ipython",
    "version": 2
   },
   "file_extension": ".py",
   "mimetype": "text/x-python",
   "name": "python",
   "nbconvert_exporter": "python",
   "pygments_lexer": "ipython2",
   "version": "2.7.14"
  }
 },
 "nbformat": 4,
 "nbformat_minor": 2
}

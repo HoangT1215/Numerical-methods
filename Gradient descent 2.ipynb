{
 "cells": [
  {
   "cell_type": "markdown",
   "metadata": {},
   "source": [
    "Gradient descent implementation with some improvements"
   ]
  },
  {
   "cell_type": "code",
   "execution_count": 20,
   "metadata": {},
   "outputs": [],
   "source": [
    "import math\n",
    "import matplotlib\n",
    "import numpy as np\n",
    "import matplotlib.cm as cm\n",
    "import matplotlib.mlab as mlab\n",
    "import matplotlib.pyplot as plt\n",
    "from sympy import symbols, diff, cos, sin, N, Function\n",
    "import cvxpy\n",
    "\n",
    "def f(x,y):\n",
    "    return (x - 1)**2 + (y - x**2)**2 # Rosenbrock function"
   ]
  },
  {
   "cell_type": "code",
   "execution_count": 34,
   "metadata": {},
   "outputs": [
    {
     "name": "stdout",
     "output_type": "stream",
     "text": [
      "(-15.0000170000000, 225.000735000799)\n",
      "(0.993265970318438, 0.986353273634961)\n",
      "(0.999554995009658, 0.999110200805671)\n",
      "(1.00000002594751, 1.00000005278486)\n",
      "(1.00000000177968, 1.00000000355931)\n",
      "(0.999999999999899, 0.999999999999795)\n",
      "(0.999999999999993, 0.999999999999986)\n",
      "Optimum point:    0.000000\n",
      "Error: 0.000000\n",
      "('At values:  ', {y: 0.999999999999986, alpha: 1, x: 0.999999999999993})\n"
     ]
    }
   ],
   "source": [
    "TOL = 1e-6\n",
    "noise = 1e-6\n",
    "\n",
    "def gradient_descent(f, diff_x, diff_y, start, f_prev, n, path):\n",
    "    step = linesearch(start, diff_x, diff_y) # calculate optimal step size using line search\n",
    "    \n",
    "    start[x] -= step*(N(diff_x.subs(start)))\n",
    "    start[y] -= step*(N(diff_y.subs(start)))\n",
    "    print (start[x], start[y])\n",
    "    \n",
    "    if round(N(f.subs(start)),7) == round(f_prev, 7) and n > 5: # condition for algorithm to terminate\n",
    "        return N(f.subs(start)), start, path\n",
    "    \n",
    "    f_prev = N(f.subs(start))\n",
    "    path.append((start[x], start[y]))\n",
    "    n += 1\n",
    "    \n",
    "    return gradient_descent(f, diff_x, diff_y, start, f_prev, n, path) # recursion\n",
    "\n",
    "def linesearch(start, diff_x, diff_y):\n",
    "    global x, y, alpha, x_alpha, y_alpha, f_alpha, TOL, noise\n",
    "    \n",
    "    l = noise\n",
    "    h = start[alpha]\n",
    "    mid = (l+h)/2\n",
    "    \n",
    "    x_alpha = diff_x*alpha\n",
    "    y_alpha = diff_y*alpha\n",
    "\n",
    "    for _ in range(100):\n",
    "        res = diff(f_alpha, alpha).subs({alpha:h, x: start[x], y: start[y]})\n",
    "        if res <= TOL:\n",
    "            return mid\n",
    "        if res < 0:\n",
    "            h *= 2\n",
    "        if res > 0:\n",
    "            mid = l + h\n",
    "            if mid <= 0:\n",
    "                l = mid\n",
    "            else:\n",
    "                h = mid\n",
    "    return mid\n",
    "\n",
    "x, y, alpha = symbols('x y alpha', real = True)\n",
    "f = (x - 1)**2 + (y - x**2)**2\n",
    "\n",
    "# function h'(a) for line search\n",
    "x_alpha, y_alpha = symbols('x_alpha y_alpha', real = True)\n",
    "f_alpha = (x_alpha-1)**2 + 100*(y_alpha - x_alpha**2)**2 # Rosenbrock function\n",
    "\n",
    "# partial derivatives wrt to x and y\n",
    "diff_x = diff(f, x)\n",
    "diff_y = diff(f, y)\n",
    "\n",
    "# initial state\n",
    "start = {alpha:1, x:2, y:0}\n",
    "\n",
    "# search result\n",
    "res = gradient_descent(f, diff_x, diff_y, start, N(f.subs(start)), 0, [(start[x], start[y])])\n",
    "\n",
    "# print out result\n",
    "print(\"Optimum point:    %f\" %res[0])\n",
    "print(\"Error: %f\" %(res[0])) # based on our analytical solution\n",
    "print(\"At values:  \", res[1])"
   ]
  },
  {
   "cell_type": "code",
   "execution_count": null,
   "metadata": {},
   "outputs": [],
   "source": []
  }
 ],
 "metadata": {
  "kernelspec": {
   "display_name": "Python 2",
   "language": "python",
   "name": "python2"
  },
  "language_info": {
   "codemirror_mode": {
    "name": "ipython",
    "version": 2
   },
   "file_extension": ".py",
   "mimetype": "text/x-python",
   "name": "python",
   "nbconvert_exporter": "python",
   "pygments_lexer": "ipython2",
   "version": "2.7.14"
  }
 },
 "nbformat": 4,
 "nbformat_minor": 2
}
